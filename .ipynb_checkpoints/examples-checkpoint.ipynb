{
 "cells": [
  {
   "cell_type": "code",
   "execution_count": 1,
   "id": "6dd78c37",
   "metadata": {},
   "outputs": [],
   "source": [
    "import geemap, ee"
   ]
  },
  {
   "cell_type": "code",
   "execution_count": 2,
   "id": "a2bb4c71",
   "metadata": {
    "scrolled": true
   },
   "outputs": [
    {
     "data": {
      "text/html": [
       "<p>To authorize access needed by Earth Engine, open the following\n",
       "        URL in a web browser and follow the instructions:</p>\n",
       "        <p><a href=https://accounts.google.com/o/oauth2/auth?client_id=517222506229-vsmmajv00ul0bs7p89v5m89qs8eb9359.apps.googleusercontent.com&scope=https%3A%2F%2Fwww.googleapis.com%2Fauth%2Fearthengine+https%3A%2F%2Fwww.googleapis.com%2Fauth%2Fdevstorage.full_control&redirect_uri=urn%3Aietf%3Awg%3Aoauth%3A2.0%3Aoob&response_type=code&code_challenge=rvprKow_d9wAkwD_zOVF2RnAk3Yz8PmVIijXZoSdj6w&code_challenge_method=S256>https://accounts.google.com/o/oauth2/auth?client_id=517222506229-vsmmajv00ul0bs7p89v5m89qs8eb9359.apps.googleusercontent.com&scope=https%3A%2F%2Fwww.googleapis.com%2Fauth%2Fearthengine+https%3A%2F%2Fwww.googleapis.com%2Fauth%2Fdevstorage.full_control&redirect_uri=urn%3Aietf%3Awg%3Aoauth%3A2.0%3Aoob&response_type=code&code_challenge=rvprKow_d9wAkwD_zOVF2RnAk3Yz8PmVIijXZoSdj6w&code_challenge_method=S256</a></p>\n",
       "        <p>The authorization workflow will generate a code, which you\n",
       "        should paste in the box below</p>\n",
       "        "
      ],
      "text/plain": [
       "<IPython.core.display.HTML object>"
      ]
     },
     "metadata": {},
     "output_type": "display_data"
    },
    {
     "name": "stdout",
     "output_type": "stream",
     "text": [
      "Enter verification code: 4/1AY0e-g49VzcCbkRbaJmllkVjxnQr8U1ruFblzLAoqvDFWlKlXozgMRrOkm8\n",
      "\n",
      "Successfully saved authorization token.\n"
     ]
    }
   ],
   "source": [
    "try:\n",
    "        ee.Initialize()\n",
    "except Exception as e:\n",
    "        ee.Authenticate()\n",
    "        ee.Initialize()\n"
   ]
  },
  {
   "cell_type": "code",
   "execution_count": 3,
   "id": "d845e9e3",
   "metadata": {},
   "outputs": [],
   "source": [
    "# set our initial map parameters for Abuja, Nigeria\n",
    "center_lat = 9.0\n",
    "center_lon = 7.4\n",
    "zoomlevel=6\n",
    "\n",
    "# initialize our map\n",
    "myFirstMap = geemap.Map(center=[center_lat,center_lon], zoom=zoomlevel)"
   ]
  },
  {
   "cell_type": "code",
   "execution_count": 4,
   "id": "806c0817",
   "metadata": {},
   "outputs": [
    {
     "data": {
      "application/vnd.jupyter.widget-view+json": {
       "model_id": "5a59c507ba114506a8cf29b983b27a08",
       "version_major": 2,
       "version_minor": 0
      },
      "text/plain": [
       "Map(center=[9.0, 7.4], controls=(WidgetControl(options=['position', 'transparent_bg'], widget=HBox(children=(T…"
      ]
     },
     "metadata": {},
     "output_type": "display_data"
    }
   ],
   "source": [
    "# display our map\n",
    "myFirstMap.addLayerControl()\n",
    "myFirstMap"
   ]
  },
  {
   "cell_type": "code",
   "execution_count": 16,
   "id": "e6aad9bf",
   "metadata": {},
   "outputs": [],
   "source": [
    "dmsp92id = \"NOAA/DMSP-OLS/NIGHTTIME_LIGHTS/F101992\"\n",
    "dmsp13id = \"NOAA/DMSP-OLS/NIGHTTIME_LIGHTS/F182013\""
   ]
  },
  {
   "cell_type": "code",
   "execution_count": 20,
   "id": "d9fdfc24",
   "metadata": {
    "scrolled": true
   },
   "outputs": [
    {
     "data": {
      "application/vnd.jupyter.widget-view+json": {
       "model_id": "caf9d9aaddc24a50898328fb8cb1032c",
       "version_major": 2,
       "version_minor": 0
      },
      "text/plain": [
       "Map(center=[9.0, 7.4], controls=(WidgetControl(options=['position', 'transparent_bg'], widget=HBox(children=(T…"
      ]
     },
     "metadata": {},
     "output_type": "display_data"
    }
   ],
   "source": [
    "# create an ee object for our 1992 image\n",
    "# note that for DMSP, there is only one band, so we dont need to worry about selecting a band.\n",
    "dmsp92 = ee.Image(dmsp92id)\n",
    "dmsp13 = ee.Image(dmsp13id)\n",
    "\n",
    "# initialize another map add this image as a layer to our map object\n",
    "# and call the layer: \"DMSP NTL 1992\"\n",
    "Map2 = geemap.Map(center=[center_lat,center_lon], zoom=zoomlevel)\n",
    "Map2.addLayer(dmsp92.mask(dmsp92), name='DMSP NTL 1992', opacity = 0.75)\n",
    "Map2.addLayer(dmsp13.mask(dmsp13), name='DMSP NTL 2013', opacity = 0.75)\n",
    "\n",
    "Map2.addLayerControl()\n",
    "Map2"
   ]
  },
  {
   "cell_type": "code",
   "execution_count": 11,
   "id": "0c3ad283",
   "metadata": {
    "scrolled": true
   },
   "outputs": [
    {
     "data": {
      "application/vnd.jupyter.widget-view+json": {
       "model_id": "4fa5b90015c44f76aec528abdcd6dd0c",
       "version_major": 2,
       "version_minor": 0
      },
      "text/plain": [
       "Map(center=[9.0, 7.4], controls=(WidgetControl(options=['position', 'transparent_bg'], widget=HBox(children=(T…"
      ]
     },
     "metadata": {},
     "output_type": "display_data"
    }
   ],
   "source": [
    "Map3 = geemap.Map(center=[center_lat,center_lon], zoom=zoomlevel)\n",
    "Map3.addLayer(dmsp92, {min:0, max:10}, name='DMSP NTL 1992', opacity=0.75)\n",
    "\n",
    "Map3.addLayerControl()\n",
    "Map3"
   ]
  },
  {
   "cell_type": "code",
   "execution_count": 12,
   "id": "e5cc0ed8",
   "metadata": {},
   "outputs": [
    {
     "data": {
      "application/vnd.jupyter.widget-view+json": {
       "model_id": "24afd90f6ba74164841adf351743568d",
       "version_major": 2,
       "version_minor": 0
      },
      "text/plain": [
       "Map(center=[9.0, 7.4], controls=(WidgetControl(options=['position', 'transparent_bg'], widget=HBox(children=(T…"
      ]
     },
     "metadata": {},
     "output_type": "display_data"
    }
   ],
   "source": [
    "Map4 = geemap.Map(center=[center_lat,center_lon], zoom=zoomlevel)\n",
    "Map4.addLayer(dmsp92.mask(dmsp92), name='DMSP NTL 1992 masked', opacity=0.75)\n",
    "\n",
    "Map4.addLayerControl()\n",
    "Map4"
   ]
  },
  {
   "cell_type": "code",
   "execution_count": 13,
   "id": "6633dcfe",
   "metadata": {
    "scrolled": true
   },
   "outputs": [
    {
     "data": {
      "application/vnd.jupyter.widget-view+json": {
       "model_id": "0e22fd3e31034b898175ee717ad58c5d",
       "version_major": 2,
       "version_minor": 0
      },
      "text/plain": [
       "Map(center=[9.0, 7.4], controls=(WidgetControl(options=['position', 'transparent_bg'], widget=HBox(children=(T…"
      ]
     },
     "metadata": {},
     "output_type": "display_data"
    },
    {
     "name": "stdout",
     "output_type": "stream",
     "text": [
      "Element.toDictionary: Parameter 'element' is required.\n"
     ]
    }
   ],
   "source": [
    "# initial map object centered on Abuja\n",
    "Map5 = geemap.Map(center=[center_lat,center_lon], zoom=zoomlevel)\n",
    "\n",
    "# add our alternate basemap\n",
    "Map5.add_basemap(\"SATELLITE\")\n",
    "\n",
    "# add our 1992 (and remember to create a mask and change opacity to 75%)\n",
    "Map5.addLayer(dmsp92.mask(dmsp92), name='DMSP NTL 1992 masked', opacity=0.75)\n",
    "\n",
    "Map5.addLayerControl()\n",
    "Map5"
   ]
  },
  {
   "cell_type": "code",
   "execution_count": 14,
   "id": "1a8513c6",
   "metadata": {},
   "outputs": [],
   "source": [
    "import sys\n",
    "\n",
    "def get_env():\n",
    "    sp = sys.path[1].split(\"/\")\n",
    "    if \"envs\" in sp:\n",
    "        return sp[sp.index(\"envs\") + 1]\n",
    "    else:\n",
    "        return \"\""
   ]
  },
  {
   "cell_type": "code",
   "execution_count": 21,
   "id": "a3fe5144",
   "metadata": {},
   "outputs": [],
   "source": [
    "# generate tile layers from the ee image objects, masking and changing opacity to 75%\n",
    "dmsp92_tile = geemap.ee_tile_layer(dmsp92.mask(dmsp92), {}, 'DMSP NTL 1992', opacity=0.75)\n",
    "dmsp2013_tile = geemap.ee_tile_layer(dmsp13.mask(dmsp13), {}, 'DMSP NTL 2013', opacity=0.75)"
   ]
  },
  {
   "cell_type": "code",
   "execution_count": 22,
   "id": "89b967bf",
   "metadata": {
    "scrolled": true
   },
   "outputs": [
    {
     "data": {
      "application/vnd.jupyter.widget-view+json": {
       "model_id": "b0ba46eb1877438491194794e877c23b",
       "version_major": 2,
       "version_minor": 0
      },
      "text/plain": [
       "Map(center=[9.0, 7.4], controls=(WidgetControl(options=['position', 'transparent_bg'], widget=HBox(children=(T…"
      ]
     },
     "metadata": {},
     "output_type": "display_data"
    }
   ],
   "source": [
    "# initial map object centered on Abuja\n",
    "Map7 = geemap.Map(center=[center_lat,center_lon], zoom=zoomlevel)\n",
    "\n",
    "# use .split_map function to create split panels\n",
    "Map7.split_map(left_layer=dmsp92_tile, right_layer=dmsp2013_tile)\n",
    "\n",
    "\n",
    "Map7.addLayerControl()\n",
    "Map7"
   ]
  },
  {
   "cell_type": "code",
   "execution_count": 23,
   "id": "24379a2a",
   "metadata": {
    "scrolled": true
   },
   "outputs": [
    {
     "data": {
      "application/vnd.jupyter.widget-view+json": {
       "model_id": "b2edb86756724b90b41605b54ea2c4c3",
       "version_major": 2,
       "version_minor": 0
      },
      "text/plain": [
       "Map(center=[38.9072, -77.0369], controls=(WidgetControl(options=['position', 'transparent_bg'], widget=HBox(ch…"
      ]
     },
     "metadata": {},
     "output_type": "display_data"
    }
   ],
   "source": [
    "# set our initial map parameters for Washington, DC\n",
    "center_lat = 38.9072\n",
    "center_lon = -77.0369\n",
    "zoomlevel=10\n",
    "\n",
    "# initialize our map\n",
    "map1 = geemap.Map(center=[center_lat,center_lon], zoom=zoomlevel)\n",
    "map1.add_basemap('SATELLITE')\n",
    "\n",
    "map1.addLayerControl()\n",
    "map1"
   ]
  },
  {
   "cell_type": "code",
   "execution_count": 24,
   "id": "d2a8a163",
   "metadata": {},
   "outputs": [],
   "source": [
    "dmsp = ee.ImageCollection(\"NOAA/DMSP-OLS/NIGHTTIME_LIGHTS\")"
   ]
  },
  {
   "cell_type": "code",
   "execution_count": 26,
   "id": "d40a8758",
   "metadata": {},
   "outputs": [
    {
     "name": "stdout",
     "output_type": "stream",
     "text": [
      "35\n"
     ]
    }
   ],
   "source": [
    "print(dmsp.size().getInfo())"
   ]
  },
  {
   "cell_type": "code",
   "execution_count": 29,
   "id": "ee183932",
   "metadata": {},
   "outputs": [],
   "source": [
    "def get_date_range(img_collection):\n",
    "    imgrange = img_collection.reduceColumns(ee.Reducer.minMax(), [\"system:time_start\"])\n",
    "    start = ee.Date(imgrange.get('min')).getInfo()['value']\n",
    "    end = ee.Date(imgrange.get('max')).getInfo()['value']\n",
    "\n",
    "    start = datetime.utcfromtimestamp(start/1000).strftime('%Y-%m-%d %H:%M:%S')\n",
    "    end = datetime.utcfromtimestamp(end/1000).strftime('%Y-%m-%d %H:%M:%S')\n",
    "    print(f\"Date range: {start, end}\")"
   ]
  },
  {
   "cell_type": "code",
   "execution_count": 30,
   "id": "294fca89",
   "metadata": {},
   "outputs": [
    {
     "name": "stdout",
     "output_type": "stream",
     "text": [
      "Date range: ('1992-01-01 00:00:00', '2013-01-01 00:00:00')\n"
     ]
    }
   ],
   "source": [
    "get_date_range(dmsp)"
   ]
  },
  {
   "cell_type": "code",
   "execution_count": 33,
   "id": "2e270f41",
   "metadata": {},
   "outputs": [
    {
     "data": {
      "application/vnd.jupyter.widget-view+json": {
       "model_id": "c8b65bdb68df497ab6aa0d4d7859f0b7",
       "version_major": 2,
       "version_minor": 0
      },
      "text/plain": [
       "Map(center=[38.9072, -77.0369], controls=(WidgetControl(options=['position', 'transparent_bg'], widget=HBox(ch…"
      ]
     },
     "metadata": {},
     "output_type": "display_data"
    }
   ],
   "source": [
    "dmsp1996 = ee.Image(\"NOAA/DMSP-OLS/NIGHTTIME_LIGHTS/F121996\")\n",
    "dmsp2010 = ee.Image(\"NOAA/DMSP-OLS/NIGHTTIME_LIGHTS/F182010\")\n",
    "\n",
    "# initialize our map\n",
    "map3 = geemap.Map(center=[center_lat,center_lon], zoom=zoomlevel)\n",
    "map3.add_basemap('SATELLITE')\n",
    "\n",
    "# generate tile layers\n",
    "dmsp1996_tile = geemap.ee_tile_layer(dmsp1996.mask(dmsp1996), {}, 'DMSP-OLS 1996', opacity=0.75)\n",
    "dmsp2010_tile = geemap.ee_tile_layer(dmsp2010.mask(dmsp2010), {}, 'DMSP-OLS 2010', opacity=0.75)\n",
    "\n",
    "# create split map\n",
    "map3.split_map(left_layer=dmsp1996_tile, right_layer=dmsp2010_tile)\n",
    "map3"
   ]
  },
  {
   "cell_type": "code",
   "execution_count": 36,
   "id": "8058045e",
   "metadata": {
    "scrolled": true
   },
   "outputs": [
    {
     "data": {
      "application/vnd.jupyter.widget-view+json": {
       "model_id": "ff5c3e6d6b50496194d393a0c0b2f318",
       "version_major": 2,
       "version_minor": 0
      },
      "text/plain": [
       "Map(center=[40, -100], controls=(WidgetControl(options=['position', 'transparent_bg'], widget=HBox(children=(T…"
      ]
     },
     "metadata": {},
     "output_type": "display_data"
    }
   ],
   "source": [
    "# get December image, we're using the \"avg_rad\" band\n",
    "viirs2019_12 = ee.ImageCollection(\"NOAA/VIIRS/DNB/MONTHLY_V1/VCMSLCFG\").filterDate(\"2019-12-01\",\"2019-12-31\").select('avg_rad').median()\n",
    "\n",
    "\n",
    "# initialize our map\n",
    "map1 = geemap.Map()\n",
    "map1.add_basemap('SATELLITE')\n",
    "map1.addLayer(viirs2019_12, {}, \"VIIRS-DNB Dec 2019\", opacity = 0.5)\n",
    "\n",
    "map1.addLayerControl()\n",
    "map1"
   ]
  },
  {
   "cell_type": "code",
   "execution_count": 37,
   "id": "62ad76b4",
   "metadata": {},
   "outputs": [],
   "source": [
    "lat = 34.0469\n",
    "lon = -118.2541\n",
    "aoi = ee.Geometry.Point([lon, lat]).buffer(200000);"
   ]
  },
  {
   "cell_type": "code",
   "execution_count": 38,
   "id": "af8495b7",
   "metadata": {},
   "outputs": [
    {
     "data": {
      "application/vnd.jupyter.widget-view+json": {
       "model_id": "3c9f8d564b434fc0b9f2cf4b5cd21525",
       "version_major": 2,
       "version_minor": 0
      },
      "text/plain": [
       "Map(center=[34.0469, -118.2541], controls=(WidgetControl(options=['position', 'transparent_bg'], widget=HBox(c…"
      ]
     },
     "metadata": {},
     "output_type": "display_data"
    }
   ],
   "source": [
    "viirs2019_12_clipped = viirs2019_12.clip(aoi)\n",
    "\n",
    "map2 = geemap.Map(center=[lat, lon],zoom=7)\n",
    "map2.add_basemap('SATELLITE')\n",
    "map2.addLayer(viirs2019_12_clipped, {}, \"VIIRS-DNB- Greater LA Dec 2019\")\n",
    "map2.addLayerControl()\n",
    "map2"
   ]
  },
  {
   "cell_type": "code",
   "execution_count": 39,
   "id": "844c00c3",
   "metadata": {},
   "outputs": [],
   "source": [
    "aoi_CA = ee.FeatureCollection('TIGER/2016/States').filter(ee.Filter.eq('NAME', 'California'))"
   ]
  },
  {
   "cell_type": "code",
   "execution_count": 40,
   "id": "a86d523b",
   "metadata": {},
   "outputs": [
    {
     "data": {
      "application/vnd.jupyter.widget-view+json": {
       "model_id": "497b47c4b82a44de93045db1e87c9e99",
       "version_major": 2,
       "version_minor": 0
      },
      "text/plain": [
       "Map(center=[34.0469, -118.2541], controls=(WidgetControl(options=['position', 'transparent_bg'], widget=HBox(c…"
      ]
     },
     "metadata": {},
     "output_type": "display_data"
    }
   ],
   "source": [
    "viirs2019_12_ca = viirs2019_12.clip(aoi_CA)\n",
    "\n",
    "map3 = geemap.Map(center=[lat, lon],zoom=5)\n",
    "map3.add_basemap('SATELLITE')\n",
    "map3.addLayer(viirs2019_12_ca, {}, \"VIIRS-DNB- California Dec 2019\")\n",
    "map3.addLayerControl()\n",
    "map3"
   ]
  },
  {
   "cell_type": "code",
   "execution_count": 41,
   "id": "59f6fcd9",
   "metadata": {},
   "outputs": [],
   "source": [
    "# get the entire VIIRS-DNB selection -- still only selecting the \"avg_rad\" band\n",
    "viirsDNB = ee.ImageCollection(\"NOAA/VIIRS/DNB/MONTHLY_V1/VCMSLCFG\").select('avg_rad')\n",
    "\n",
    "# here's a function that uses the CA aoi to clip an image\n",
    "def clip_func(x):\n",
    "    return x.clip(aoi_CA)\n",
    "\n",
    "# for simple functions in Python, we can also use the \"lambda\" convention\n",
    "# this is identical to what we just defined above \n",
    "# and is nice and compact for vectorizing functions on arrays and images, etc.\n",
    "clip_func = lambda x: x.clip(aoi_CA)\n",
    "\n",
    "# in fact, by using lambda, we dont need to define this \"clip_func\" function at all\n",
    "# we can write it directly in our \"map\" function, like this:\n",
    "viirs_CA = viirsDNB.map(lambda x: x.clip(aoi_CA))"
   ]
  },
  {
   "cell_type": "code",
   "execution_count": 45,
   "id": "6f26f5b6",
   "metadata": {},
   "outputs": [
    {
     "data": {
      "text/plain": [
       "87"
      ]
     },
     "execution_count": 45,
     "metadata": {},
     "output_type": "execute_result"
    }
   ],
   "source": [
    "viirsDNB.size().getInfo()"
   ]
  },
  {
   "cell_type": "code",
   "execution_count": 44,
   "id": "f16e4f3d",
   "metadata": {},
   "outputs": [
    {
     "data": {
      "text/plain": [
       "87"
      ]
     },
     "execution_count": 44,
     "metadata": {},
     "output_type": "execute_result"
    }
   ],
   "source": [
    "viirs_CA.size().getInfo()"
   ]
  },
  {
   "cell_type": "code",
   "execution_count": 52,
   "id": "10028fba",
   "metadata": {
    "scrolled": true
   },
   "outputs": [
    {
     "data": {
      "application/vnd.jupyter.widget-view+json": {
       "model_id": "b7795c1d2e2d4f6780723199f12585e7",
       "version_major": 2,
       "version_minor": 0
      },
      "text/plain": [
       "Map(center=[34.0469, -118.2541], controls=(WidgetControl(options=['position', 'transparent_bg'], widget=HBox(c…"
      ]
     },
     "metadata": {},
     "output_type": "display_data"
    }
   ],
   "source": [
    "viirs_CA_2015_06 = viirs_CA.filterDate('2015-06-01','2015-06-30').median()\n",
    "viirs_CA_2019_06 = viirs_CA.filterDate('2019-06-01','2019-06-30').median()\n",
    "\n",
    "map4 = geemap.Map(center=[lat, lon],zoom=5)\n",
    "map4.add_basemap('SATELLITE')\n",
    "x = geemap.ee_tile_layer(viirs_CA_2015_06, {}, \"VIIRS-DNB- California June 2015\")\n",
    "y = geemap.ee_tile_layer(viirs_CA_2019_06, {}, \"VIIRS-DNB- California June 2019\")\n",
    "# map4.addLayerControl()\n",
    "# map4b\n",
    "\n",
    "map4.split_map(left_layer = x, right_layer = y)\n",
    "map4"
   ]
  },
  {
   "cell_type": "code",
   "execution_count": 47,
   "id": "325d35a0",
   "metadata": {
    "scrolled": true
   },
   "outputs": [
    {
     "data": {
      "application/vnd.jupyter.widget-view+json": {
       "model_id": "38cb1f4bc3054821a0e299e480fc51eb",
       "version_major": 2,
       "version_minor": 0
      },
      "text/plain": [
       "Map(center=[34.0469, -118.2541], controls=(WidgetControl(options=['position', 'transparent_bg'], widget=HBox(c…"
      ]
     },
     "metadata": {},
     "output_type": "display_data"
    }
   ],
   "source": [
    "viirs_CA_2019 = viirs_CA.filterDate('2019-01-01','2019-12-31').median()\n",
    "\n",
    "map5 = geemap.Map(center=[lat, lon],zoom=5)\n",
    "map5.add_basemap('SATELLITE')\n",
    "map5.addLayer(viirs_CA_2019, {}, \"VIIRS-DNB- California 2019 (median)\")\n",
    "map5.addLayerControl()\n",
    "map5"
   ]
  },
  {
   "cell_type": "code",
   "execution_count": null,
   "id": "4e6e493f",
   "metadata": {},
   "outputs": [],
   "source": []
  }
 ],
 "metadata": {
  "kernelspec": {
   "display_name": "Python (onl)",
   "language": "python",
   "name": "onl"
  },
  "language_info": {
   "codemirror_mode": {
    "name": "ipython",
    "version": 3
   },
   "file_extension": ".py",
   "mimetype": "text/x-python",
   "name": "python",
   "nbconvert_exporter": "python",
   "pygments_lexer": "ipython3",
   "version": "3.9.5"
  }
 },
 "nbformat": 4,
 "nbformat_minor": 5
}
