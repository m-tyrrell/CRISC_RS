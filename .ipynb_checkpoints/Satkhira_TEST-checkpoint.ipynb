{
 "cells": [
  {
   "cell_type": "code",
   "execution_count": 1,
   "id": "e987308b",
   "metadata": {},
   "outputs": [],
   "source": [
    "import geemap, ee\n",
    "import geopandas as gpd\n",
    "import json\n",
    "import numpy as np\n",
    "import seaborn as sns\n",
    "import matplotlib.pyplot as plt"
   ]
  },
  {
   "cell_type": "code",
   "execution_count": 2,
   "id": "8fc841be",
   "metadata": {},
   "outputs": [],
   "source": [
    "try:\n",
    "        ee.Initialize()\n",
    "except Exception as e:\n",
    "        ee.Authenticate()\n",
    "        ee.Initialize()"
   ]
  },
  {
   "cell_type": "code",
   "execution_count": 3,
   "id": "63093488",
   "metadata": {},
   "outputs": [],
   "source": [
    "# helper function to put the geodataframe in the right format for constructing an ee object\n",
    "def shp_to_ee_fmt(city, level):\n",
    "    dic = {'Satkhira':{2:56,3:469,4:4307},'Sirajganj':{2:59,3:496,4:4493}}\n",
    "    ind = dic[city][level]\n",
    "    shp_path = \"/Users/MT/Desktop/CRISC/bgd_adm_bbs_20201113_SHP/bgd_admbnda_adm\"+str(level)+\"_bbs_20201113.shp\"\n",
    "    gdf = gpd.read_file(shp_path, crs='EPSG:4326')\n",
    "    x = gdf.iloc[ind:ind+1,:]\n",
    "    data = json.loads(x.to_json())\n",
    "    return data['features'][0]['geometry']['coordinates']\n",
    "\n",
    "# Source shp: https://data.humdata.org/dataset/administrative-boundaries-of-bangladesh-as-of-2015"
   ]
  },
  {
   "cell_type": "code",
   "execution_count": 4,
   "id": "7e274d0e",
   "metadata": {},
   "outputs": [],
   "source": [
    "viirs = ee.Image(ee.ImageCollection(\"NOAA/VIIRS/DNB/MONTHLY_V1/VCMSLCFG\").filterDate(\"2019-01-01\",\"2019-12-31\").median().select('avg_rad'))"
   ]
  },
  {
   "cell_type": "code",
   "execution_count": 8,
   "id": "e101d08c",
   "metadata": {},
   "outputs": [],
   "source": [
    "srtm = ee.Image(\"CGIAR/SRTM90_V4\").select('elevation')\n",
    "srtmVis = {'min':-1, 'max':14,'palette':['#f7fcfd','#e5f5f9','#ccece6','#99d8c9','#66c2a4','#41ae76','#238b45','#005824']}"
   ]
  },
  {
   "cell_type": "markdown",
   "id": "c6a2cbdf",
   "metadata": {},
   "source": [
    "## Satkhira Municipal Area (Khulna Division)"
   ]
  },
  {
   "cell_type": "code",
   "execution_count": 10,
   "id": "4dc15745",
   "metadata": {},
   "outputs": [
    {
     "data": {
      "application/vnd.jupyter.widget-view+json": {
       "model_id": "6373ff183a714e4dac3ca2fccdbe631d",
       "version_major": 2,
       "version_minor": 0
      },
      "text/plain": [
       "Map(center=[22.720927853625877, 89.03865281295343], controls=(WidgetControl(options=['position', 'transparent_…"
      ]
     },
     "metadata": {},
     "output_type": "display_data"
    }
   ],
   "source": [
    "#AOI: Satkhira District (Khulna Division)\n",
    "aoi = ee.Geometry.MultiPolygon(shp_to_ee_fmt(city = 'Satkhira', level = 3))\n",
    "\n",
    "# initialize the map\n",
    "map1 = geemap.Map()\n",
    "map1.centerObject(aoi, 13)\n",
    "map1.addLayer(viirs.clip(aoi), {}, \"VIIRS-DNB Nightlights\", opacity=0.5)\n",
    "#map1.addLayer(ghslSet.clip(aoi), ghslSetVis, 'GHSL Degree of Urbanization', opacity=0.5)\n",
    "#map1.addLayer(ghslPop.clip(aoi), ghslPopVis, 'GHSL Population', opacity=0.5)\n",
    "map1.addLayer(srtm.clip(aoi), srtmVis, 'Topographic', opacity = 0.6)\n",
    "#map1.addLayer(water.clip(aoi), waterVis, 'Water Prevalence', opacity = 0.6)\n",
    "map1.addLayerControl()\n",
    "map1"
   ]
  }
 ],
 "metadata": {
  "kernelspec": {
   "display_name": "Python (onl)",
   "language": "python",
   "name": "onl"
  },
  "language_info": {
   "codemirror_mode": {
    "name": "ipython",
    "version": 3
   },
   "file_extension": ".py",
   "mimetype": "text/x-python",
   "name": "python",
   "nbconvert_exporter": "python",
   "pygments_lexer": "ipython3",
   "version": "3.9.5"
  }
 },
 "nbformat": 4,
 "nbformat_minor": 5
}
