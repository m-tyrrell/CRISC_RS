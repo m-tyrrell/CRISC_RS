{
 "cells": [
  {
   "cell_type": "code",
   "execution_count": 13,
   "id": "a3b29eba",
   "metadata": {},
   "outputs": [],
   "source": [
    "import geemap, ee\n",
    "import geopandas as gpd\n",
    "import json\n",
    "import numpy as np\n",
    "import seaborn as sns\n",
    "import matplotlib.pyplot as plt\n",
    "import os"
   ]
  },
  {
   "cell_type": "code",
   "execution_count": 3,
   "id": "fdbd62e4",
   "metadata": {},
   "outputs": [],
   "source": [
    "try:\n",
    "        ee.Initialize()\n",
    "except Exception as e:\n",
    "        ee.Authenticate()\n",
    "        ee.Initialize()"
   ]
  },
  {
   "cell_type": "code",
   "execution_count": 38,
   "id": "accepting-bibliography",
   "metadata": {},
   "outputs": [],
   "source": [
    "# Set path to wd\n",
    "path = os.path.join(\"/\",\"Users\",\"MT\",\"Nextcloud\",\"Projects\",\"GOV-BGD20GIZ7333_CRISC_AI\")"
   ]
  },
  {
   "cell_type": "code",
   "execution_count": 39,
   "id": "e307adf3",
   "metadata": {},
   "outputs": [],
   "source": [
    "# helper function: lookup shp index by city/levell geodataframe format, ee object construct\n",
    "def shp_to_ee_fmt(city, level):\n",
    "    dic = {'Satkhira':{2:56,3:469,4:4307},'Sirajganj':{2:59,3:496,4:4493}}\n",
    "    ind = dic[city][level]\n",
    "    shp_path = os.path.join(path,\"CRISC_RS\",\"bgd_adm_bbs_20201113_SHP\",\"bgd_admbnda_adm\"+str(level)+\"_bbs_20201113.shp\")\n",
    "    gdf = gpd.read_file(shp_path, crs='EPSG:4326')\n",
    "    x = gdf.iloc[ind:ind+1,:]\n",
    "    data = json.loads(x.to_json())\n",
    "    return data['features'][0]['geometry']['coordinates']\n",
    "\n",
    "# Source shp: https://data.humdata.org/dataset/administrative-boundaries-of-bangladesh-as-of-2015"
   ]
  },
  {
   "cell_type": "code",
   "execution_count": 20,
   "id": "22636003",
   "metadata": {},
   "outputs": [],
   "source": [
    "viirs = ee.Image(ee.ImageCollection(\"NOAA/VIIRS/DNB/MONTHLY_V1/VCMSLCFG\").filterDate(\"2019-01-01\",\"2019-12-31\").median().select('avg_rad'))"
   ]
  },
  {
   "cell_type": "code",
   "execution_count": 9,
   "id": "162c2877",
   "metadata": {},
   "outputs": [],
   "source": [
    "srtm = ee.Image(\"CGIAR/SRTM90_V4\").select('elevation')\n",
    "srtmVis = {'min':-1, 'max':14,'palette':['#f7fcfd','#e5f5f9','#ccece6','#99d8c9','#66c2a4','#41ae76','#238b45','#005824']}"
   ]
  },
  {
   "cell_type": "code",
   "execution_count": 220,
   "id": "ca0b10e1",
   "metadata": {},
   "outputs": [],
   "source": [
    "water = ee.Image(\"JRC/GSW1_3/GlobalSurfaceWater\").select('occurrence')\n",
    "waterVis= {\"min\":0, \"max\":50,\"palette\":['lightblue', 'blue'], \"bands\":\"occurrence\"}\n"
   ]
  },
  {
   "cell_type": "code",
   "execution_count": 238,
   "id": "eafe84c9",
   "metadata": {},
   "outputs": [],
   "source": [
    "ghslSet = ee.ImageCollection('JRC/GHSL/P2016/SMOD_POP_GLOBE_V1').filter(ee.Filter.date('2015-01-01', '2015-12-31')).select('smod_code').median();\n",
    "ghslSetVis= {\"min\":0.0, \"max\":3.0,\"palette\":['000000', '448564', '70daa4', 'ffffff']}"
   ]
  },
  {
   "cell_type": "code",
   "execution_count": 243,
   "id": "a5743516",
   "metadata": {},
   "outputs": [],
   "source": [
    "ghslPop = ee.ImageCollection(\"JRC/GHSL/P2016/POP_GPW_GLOBE_V1\").filter(ee.Filter.date('2015-01-01', '2015-12-31')).select('population_count').median();\n",
    "ghslPopVis= {\"min\":0.0, \"max\":5000.0,\"palette\":['000000', '448564', '70daa4', 'ffffff']}"
   ]
  },
  {
   "cell_type": "code",
   "execution_count": 40,
   "id": "512fb21e",
   "metadata": {},
   "outputs": [
    {
     "data": {
      "image/png": "[encoded data removed]",
      "text/plain": [
       "<Figure size 1080x360 with 1 Axes>"
      ]
     },
     "metadata": {
      "needs_background": "light"
     },
     "output_type": "display_data"
    }
   ],
   "source": [
    "# Histogram of elevation\n",
    "aoi = ee.Geometry.MultiPolygon(shp_to_ee_fmt(city = 'Satkhira', level = 4))\n",
    "\n",
    "arr = np.array(srtm.sampleRectangle(region=aoi).get('elevation').getInfo())\n",
    "data = arr.flatten()\n",
    "\n",
    "fig, ax = plt.subplots(figsize=(15,5))\n",
    "sns.histplot(data, bins=50,ax=ax)\n",
    "plt.title('Distribution of Elevation (m): Satkhira Paurashava', fontsize=20);"
   ]
  },
  {
   "cell_type": "code",
   "execution_count": 252,
   "id": "d3ad14c9",
   "metadata": {},
   "outputs": [
    {
     "data": {
      "image/png": "[encoded data removed]",
      "text/plain": [
       "<Figure size 1080x360 with 1 Axes>"
      ]
     },
     "metadata": {
      "needs_background": "light"
     },
     "output_type": "display_data"
    }
   ],
   "source": [
    "# Histogram of Pop\n",
    "aoi = ee.Geometry.MultiPolygon(shp_to_ee_fmt(level = 4, ind = 4307))\n",
    "\n",
    "arr = np.array(ghslPop.sampleRectangle(region=aoi).get('population_count').getInfo())\n",
    "data = arr.flatten()\n",
    "\n",
    "fig, ax = plt.subplots(figsize=(15,5))\n",
    "sns.histplot(data, bins=100,ax=ax)\n",
    "plt.title('Distribution of Population (n): Satkhira Paurashava', fontsize=20);"
   ]
  },
  {
   "cell_type": "code",
   "execution_count": 1,
   "id": "1b41fbfc",
   "metadata": {
    "scrolled": true
   },
   "outputs": [
    {
     "ename": "NameError",
     "evalue": "name 'ee' is not defined",
     "output_type": "error",
     "traceback": [
      "\u001b[0;31m---------------------------------------------------------------------------\u001b[0m",
      "\u001b[0;31mNameError\u001b[0m                                 Traceback (most recent call last)",
      "\u001b[0;32m<ipython-input-1-9b933926771c>\u001b[0m in \u001b[0;36m<module>\u001b[0;34m\u001b[0m\n\u001b[1;32m      1\u001b[0m \u001b[0;31m# Histogram of elevation\u001b[0m\u001b[0;34m\u001b[0m\u001b[0;34m\u001b[0m\u001b[0;34m\u001b[0m\u001b[0m\n\u001b[0;32m----> 2\u001b[0;31m \u001b[0maoi\u001b[0m \u001b[0;34m=\u001b[0m \u001b[0mee\u001b[0m\u001b[0;34m.\u001b[0m\u001b[0mGeometry\u001b[0m\u001b[0;34m.\u001b[0m\u001b[0mMultiPolygon\u001b[0m\u001b[0;34m(\u001b[0m\u001b[0mshp_to_ee_fmt\u001b[0m\u001b[0;34m(\u001b[0m\u001b[0mcity\u001b[0m \u001b[0;34m=\u001b[0m \u001b[0;34m'Sirajganj'\u001b[0m\u001b[0;34m,\u001b[0m \u001b[0mlevel\u001b[0m \u001b[0;34m=\u001b[0m \u001b[0;36m4\u001b[0m\u001b[0;34m)\u001b[0m\u001b[0;34m)\u001b[0m\u001b[0;34m\u001b[0m\u001b[0;34m\u001b[0m\u001b[0m\n\u001b[0m\u001b[1;32m      3\u001b[0m \u001b[0;34m\u001b[0m\u001b[0m\n\u001b[1;32m      4\u001b[0m \u001b[0marr\u001b[0m \u001b[0;34m=\u001b[0m \u001b[0mnp\u001b[0m\u001b[0;34m.\u001b[0m\u001b[0marray\u001b[0m\u001b[0;34m(\u001b[0m\u001b[0msrtm\u001b[0m\u001b[0;34m.\u001b[0m\u001b[0msampleRectangle\u001b[0m\u001b[0;34m(\u001b[0m\u001b[0mregion\u001b[0m\u001b[0;34m=\u001b[0m\u001b[0maoi\u001b[0m\u001b[0;34m)\u001b[0m\u001b[0;34m.\u001b[0m\u001b[0mget\u001b[0m\u001b[0;34m(\u001b[0m\u001b[0;34m'elevation'\u001b[0m\u001b[0;34m)\u001b[0m\u001b[0;34m.\u001b[0m\u001b[0mgetInfo\u001b[0m\u001b[0;34m(\u001b[0m\u001b[0;34m)\u001b[0m\u001b[0;34m)\u001b[0m\u001b[0;34m\u001b[0m\u001b[0;34m\u001b[0m\u001b[0m\n\u001b[1;32m      5\u001b[0m \u001b[0mdata\u001b[0m \u001b[0;34m=\u001b[0m \u001b[0marr\u001b[0m\u001b[0;34m.\u001b[0m\u001b[0mflatten\u001b[0m\u001b[0;34m(\u001b[0m\u001b[0;34m)\u001b[0m\u001b[0;34m\u001b[0m\u001b[0;34m\u001b[0m\u001b[0m\n",
      "\u001b[0;31mNameError\u001b[0m: name 'ee' is not defined"
     ]
    }
   ],
   "source": [
    "# Histogram of elevation\n",
    "aoi = ee.Geometry.MultiPolygon(shp_to_ee_fmt(city = 'Sirajganj', level = 4))\n",
    "\n",
    "arr = np.array(srtm.sampleRectangle(region=aoi).get('elevation').getInfo())\n",
    "data = arr.flatten()\n",
    "\n",
    "fig, ax = plt.subplots(figsize=(15,5))\n",
    "sns.histplot(data, bins=50,ax=ax)\n",
    "plt.title('Distribution of Elevation (m): Sirajganj Paurashava', fontsize=20);"
   ]
  },
  {
   "cell_type": "code",
   "execution_count": 231,
   "id": "42f33cd4",
   "metadata": {},
   "outputs": [
    {
     "data": {
      "application/vnd.jupyter.widget-view+json": {
       "model_id": "7113a7ac684e4f039d916ec98cf9ecda",
       "version_major": 2,
       "version_minor": 0
      },
      "text/plain": [
       "Map(center=[24.458200813238324, 89.70717738049731], controls=(WidgetControl(options=['position', 'transparent_…"
      ]
     },
     "metadata": {},
     "output_type": "display_data"
    }
   ],
   "source": [
    "#AOI: Sirajganj District (Rajshahi Division)\n",
    "aoi = ee.Geometry.MultiPolygon(shp_to_ee_fmt(city = 'Sirajganj', level = 4))\n",
    "\n",
    "# initialize the map\n",
    "map1 = geemap.Map()\n",
    "map1.centerObject(aoi, 12)\n",
    "#map1.addLayer(viirs.clip(aoi), {}, \"VIIRS-DNB\", opacity=0.5)\n",
    "#map1.addLayer(ghsl.clip(aoi), ghslVis, 'Degree of Urbanization')\n",
    "map1.addLayer(srtm.clip(aoi), {'min':6, 'max':20}, 'srtm', opacity = 0.6)\n",
    "map1.addLayer(water.clip(aoi), waterVis, 'water', opacity = 0.6)\n",
    "map1.addLayerControl()\n",
    "map1"
   ]
  }
 ],
 "metadata": {
  "kernelspec": {
   "display_name": "Python (onl)",
   "language": "python",
   "name": "onl"
  },
  "language_info": {
   "codemirror_mode": {
    "name": "ipython",
    "version": 3
   },
   "file_extension": ".py",
   "mimetype": "text/x-python",
   "name": "python",
   "nbconvert_exporter": "python",
   "pygments_lexer": "ipython3",
   "version": "3.9.5"
  }
 },
 "nbformat": 4,
 "nbformat_minor": 5
}
